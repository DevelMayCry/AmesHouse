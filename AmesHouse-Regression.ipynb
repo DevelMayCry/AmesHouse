{
 "cells": [
  {
   "cell_type": "markdown",
   "metadata": {},
   "source": [
    "# Ames House数据集上的回归分析\n",
    "\n",
    "Ames房价预测是Kaggle平台上的一个竞赛任务，需要根据房屋的特征来预测亚美尼亚州洛瓦市（Ames，Lowa）的房价。其中房屋的特征x共有79维，响应值y为每个房屋的销售价格（SalePrice）。\n",
    "\n",
    "Kaggle官网上的任务说明请见：\n",
    "https://www.kaggle.com/c/house-prices-advanced-regression-techniques\n",
    "\n",
    "由于房屋的属性较多，且房屋属性类型各异，所以先对原数据集进行特征编码。特征工程过程请见FE_AmesHouse.ipynb\n",
    "\n",
    "\n",
    "本代码直接在编码后的数据集上进行线性回归及其各种正则算法进行验证。\n",
    "\n",
    "Kaggle平台上kernel区有各个竞赛参数者分享的代码，大家可以学习。\n",
    "下面的代码也参考了很多不同选手分享的代码，在此一并致谢。"
   ]
  },
  {
   "cell_type": "code",
   "execution_count": 12,
   "metadata": {},
   "outputs": [],
   "source": [
    "# 导入必要的工具包\n",
    "# 数据读取及基本处理\n",
    "import pandas as pd\n",
    "import numpy as np\n",
    "\n",
    "#模型\n",
    "from sklearn.linear_model import LinearRegression, RidgeCV, LassoCV, ElasticNetCV\n",
    "\n",
    "#模型评估\n",
    "from sklearn.metrics import mean_squared_error\n",
    "\n",
    "#可视化\n",
    "import matplotlib.pyplot as plt"
   ]
  },
  {
   "cell_type": "code",
   "execution_count": 13,
   "metadata": {},
   "outputs": [
    {
     "name": "stdout",
     "output_type": "stream",
     "text": [
      "train : (1456, 344)\n",
      "test : (1459, 344)\n"
     ]
    }
   ],
   "source": [
    "# 读入数据\n",
    "\n",
    "#读取训练集的数据\n",
    "train = pd.read_csv(\"AmesHouse_FE_train.csv\")\n",
    "print(\"train : \" + str(train.shape))\n",
    "\n",
    "#读取测试集的数据\n",
    "test = pd.read_csv(\"AmesHouse_FE_test.csv\")\n",
    "print(\"test : \" + str(test.shape))"
   ]
  },
  {
   "cell_type": "markdown",
   "metadata": {},
   "source": [
    "**准备训练数据**"
   ]
  },
  {
   "cell_type": "code",
   "execution_count": 14,
   "metadata": {},
   "outputs": [],
   "source": [
    "#从训练集中拿到销售价格  y轴\n",
    "y_train = train[\"SalePrice\"]\n",
    "\n",
    "#从训练数据中删除销售价# 数据标准化\n",
    "from sklearn.preprocessing import StandardScaler\n",
    "\n",
    "# 初始化对目标值的标准化器\n",
    "# 对y标准化不是必须，但对其进行标准化可以使得不同问题w的取值范围相对相同\n",
    "\n",
    "#自己实现试试...,这些参数需要保留，对测试集预测完后还需要对其进行反变换\n",
    "\n",
    "#拿到训练集的平均数\n",
    "mean_y = y_train.mean()\n",
    "\n",
    "#尋來你集的方差\n",
    "std_y = y_train.std()\n",
    "\n",
    "#标准化处理\n",
    "y_train = (y_train - mean_y)/std_y\n",
    "\n",
    "#ss_y = StandardScaler()\n",
    "#y_train = ss_y.fit_transform(y_train.values.reshape(-1, 1))\n",
    "#y_test = ss_y.transform(y_test.reshape(-1, 1))格这一类  作为x轴\n",
    "\n",
    "#从训练集中删除销售价格这一类\n",
    "X_train = train.drop(['SalePrice'], axis = 1)\n",
    "\n",
    "#从测试集中拿到Id 这一列的值\n",
    "test_Id = test['Id']\n",
    "\n",
    "#从测试集中删Id这一列\n",
    "X_test = test.drop(['Id'], axis = 1)"
   ]
  },
  {
   "cell_type": "markdown",
   "metadata": {},
   "source": [
    "**1* Linear Regression without regularization**\n",
    "最小二乘线性回归\n",
    "最小二乘没有超参数需要调优，直接用全体训练数据训练模型"
   ]
  },
  {
   "cell_type": "code",
   "execution_count": 15,
   "metadata": {},
   "outputs": [
    {
     "name": "stdout",
     "output_type": "stream",
     "text": [
      "('RMSE on Training set :', 0.2494241225253253)\n"
     ]
    }
   ],
   "source": [
    "# Linear Regression\n",
    "# 1. 生成学习器实例\n",
    "lr = LinearRegression()\n",
    "\n",
    "#2. 在训练集上训练学习器\n",
    "lr.fit(X_train, y_train)\n",
    "\n",
    "#3.训练上测试，得到训练误差，实际任务中这一步不需要\n",
    "# Look at predictions on training and validation set\n",
    "y_train_pred = lr.predict(X_train)\n",
    "#y_test_pred = lr.predict(X_test)\n",
    "\n",
    "#获取根号的值\n",
    "rmse_train = np.sqrt(mean_squared_error(y_train,y_train_pred))\n",
    "#mean_squared_error(y_train,y_train_pred)  训练集结果和预测值结果的均方误差\n",
    "#rmse_test = np.sqrt(mean_squared_error(y_test,y_test_pred))\n",
    "\n",
    "print(\"RMSE on Training set :\", rmse_train)\n",
    "#print(\"RMSE on Test set :\", rmse_test)"
   ]
  },
  {
   "cell_type": "code",
   "execution_count": 16,
   "metadata": {},
   "outputs": [
    {
     "name": "stdout",
     "output_type": "stream",
     "text": [
      "('RMSE on Training set :', 0.25712650821020666)\n"
     ]
    }
   ],
   "source": [
    "# 线性模型，随机梯度下降优化模型参数\n",
    "from sklearn.linear_model import SGDRegressor\n",
    "\n",
    "# 使用默认配置初始化线\n",
    "# 1.生成学习器实例 \n",
    "sgdr = SGDRegressor(max_iter = 5000)\n",
    "\n",
    "# 2. 用训练数据训练模型，得到模型参数\n",
    "sgdr.fit(X_train, y_train)\n",
    "\n",
    "# 3. 预测\n",
    "y_train_pred = sgdr.predict(X_train)\n",
    "#y_test_pred = sgdr.predict(X_test)\n",
    "\n",
    "#获取根号的值\n",
    "rmse_train = np.sqrt(mean_squared_error(y_train,y_train_pred))\n",
    "#rmse_test = np.sqrt(mean_squared_error(y_test,y_test_pred))\n",
    "##mean_squared_error(y_train,y_train_pred)  训练集结果和预测值结果的均方误差\n",
    "print(\"RMSE on Training set :\", rmse_train)"
   ]
  },
  {
   "cell_type": "markdown",
   "metadata": {},
   "source": [
    "该数据集样本数较少，不适合用随机梯度下降方法求解。在训练集上的效果比最小二乘解析求解效果稍差"
   ]
  },
  {
   "cell_type": "markdown",
   "metadata": {},
   "source": [
    "**2* Linear Regression with Ridge regularization (L2 penalty)**"
   ]
  },
  {
   "cell_type": "code",
   "execution_count": 17,
   "metadata": {},
   "outputs": [
    {
     "name": "stdout",
     "output_type": "stream",
     "text": [
      "('Best alpha :', 10.0)\n",
      "('cv of rmse :', 0.3189702151124783)\n",
      "('RMSE on Training set :', 0.26825283183490545)\n"
     ]
    }
   ],
   "source": [
    "#RidgeCV缺省的score是mean squared errors \n",
    "# 1. 生成学习器实例\n",
    "# RidgeCV(alphas=(0.1, 1.0, 10.0), fit_intercept=True, normalize=False, scoring=None, cv=None, gcv_mode=None, store_cv_values=False)\n",
    "#实例化岭回归\n",
    "ridge = RidgeCV(alphas = [0.01, 0.1, 1, 10, 100, 1000],store_cv_values=True )\n",
    "#alphas = [0.01, 0.1, 1, 10, 100, 1000]  定义范围  可以优化\n",
    "#store_cv_values=True  保存结果集\n",
    "\n",
    "# 2. 用训练数据度模型进行训练\n",
    "# RidgeCV采用的是广义交叉验证（Generalized Cross-Validation），留一交叉验证（N-折交叉验证）的一种有效实现方式\n",
    "ridge.fit(X_train, y_train)\n",
    "\n",
    "#通过交叉验证得到的最佳超参数alpha\n",
    "alpha = ridge.alpha_\n",
    "print(\"Best alpha :\", alpha)\n",
    "\n",
    "# 交叉验证估计的测试误差\n",
    "#获取到平均值\n",
    "mse_cv = np.mean(ridge.cv_values_, axis = 0)\n",
    "#ridge.cv_values_  岭回归对象保存的值\n",
    "#开根号\n",
    "rmse_cv = np.sqrt(mse_cv)\n",
    "\n",
    "#最小的均方误差\n",
    "print(\"cv of rmse :\", min(rmse_cv))\n",
    "\n",
    "#训练上测试，训练误差，实际任务中这一步不需要\n",
    "y_train_rdg = ridge.predict(X_train)\n",
    "#开根号\n",
    "rmse_train = np.sqrt(mean_squared_error(y_train,y_train_rdg))\n",
    "#mean_squared_error(y_train,y_train_rdg)  训练集的结果  和预测集的结果的 均方误差\n",
    "print(\"RMSE on Training set :\", rmse_train)"
   ]
  },
  {
   "cell_type": "code",
   "execution_count": 18,
   "metadata": {},
   "outputs": [
    {
     "name": "stdout",
     "output_type": "stream",
     "text": [
      "Try again for more precision with alphas centered around 10.0\n",
      "('Best alpha :', 12.5)\n",
      "('cv of rmse :', 0.31891891935210687)\n",
      "('RMSE on Training set :', 0.2700404232262469)\n",
      "Ridge picked 297 features and eliminated the other 46 features\n"
     ]
    },
    {
     "data": {
      "image/png": "[encoded data removed]",
      "text/plain": [
       "<matplotlib.figure.Figure at 0x7f1b260bdfd0>"
      ]
     },
     "metadata": {},
     "output_type": "display_data"
    }
   ],
   "source": [
    "#进一步细调，不是必须\n",
    "print(\"Try again for more precision with alphas centered around \" + str(alpha))\n",
    "ridge = RidgeCV(alphas = [alpha * .6, alpha * .65, alpha * .7, alpha * .75, alpha * .8, alpha * .85, \n",
    "                          alpha * .9, alpha * .95, alpha, alpha * 1.05, alpha * 1.1, alpha * 1.15,\n",
    "                          alpha * 1.25, alpha * 1.3, alpha * 1.35, alpha * 1.4], \n",
    "                store_cv_values=True)\n",
    "#细调在10左右\n",
    "\n",
    "#训练数据\n",
    "ridge.fit(X_train, y_train)\n",
    "\n",
    "#找到最好的alpha\n",
    "alpha = ridge.alpha_\n",
    "print(\"Best alpha :\", alpha)\n",
    "\n",
    "#拿到平均值\n",
    "mse_cv = np.mean(ridge.cv_values_, axis = 0)\n",
    "#ridge.cv_values_  模型保存下来的值\n",
    "#开根号\n",
    "rmse_cv = np.sqrt(mse_cv)\n",
    "\n",
    "#获取最小的均方误差\n",
    "print(\"cv of rmse :\", min(rmse_cv))\n",
    "\n",
    "#预测训练集\n",
    "y_train_rdg = ridge.predict(X_train)\n",
    "#开根号\n",
    "rmse_train = np.sqrt(mean_squared_error(y_train,y_train_rdg))\n",
    "#mean_squared_error(y_train,y_train_rdg)   训练结果和预测结果的均方误差\n",
    "print(\"RMSE on Training set :\", rmse_train)\n",
    "\n",
    "\n",
    "# Plot important coefficients\n",
    "#画成相关图\n",
    "coefs = pd.Series(ridge.coef_, index = X_train.columns)\n",
    "#ridge.coef_ 系数\n",
    "#index = X_train.columns  索引是训练集的列\n",
    "\n",
    "print(\"Ridge picked \" + str(sum(coefs != 0)) + \" features and eliminated the other \" +  \\\n",
    "      str(sum(coefs == 0)) + \" features\")\n",
    "\n",
    "#正系数值最大的10个特征和负系数值最小（绝对值大）的10个特征\n",
    "imp_coefs = pd.concat([coefs.sort_values().head(10),\n",
    "                     coefs.sort_values().tail(10)])\n",
    "\n",
    "#画出图\n",
    "imp_coefs.plot(kind = \"barh\")\n",
    "#设置标题名字\n",
    "plt.title(\"Coefficients in the Ridge Model\")\n",
    "#展示\n",
    "plt.show()"
   ]
  },
  {
   "cell_type": "markdown",
   "metadata": {},
   "source": [
    "**3* Linear Regression with Lasso regularization (L1 penalty)**"
   ]
  },
  {
   "cell_type": "code",
   "execution_count": 21,
   "metadata": {},
   "outputs": [
    {
     "name": "stdout",
     "output_type": "stream",
     "text": [
      "('Best alpha :', 0.001)\n",
      "Try again for more precision with alphas centered around 0.001\n",
      "('Best alpha :', 0.0010500000000000002)\n",
      "('cv of rmse :', 0.283537345457897)\n",
      "('RMSE on Training set :', 0.27531394757315286)\n",
      "Lasso picked 129 features and eliminated the other 214 features\n"
     ]
    },
    {
     "data": {
      "image/png": "[encoded data removed]",
      "text/plain": [
       "<matplotlib.figure.Figure at 0x7f1aebb3d890>"
      ]
     },
     "metadata": {},
     "output_type": "display_data"
    }
   ],
   "source": [
    "# 3* Lasso\n",
    "lasso = LassoCV(alphas = [0.0001, 0.001, 0.01, 0.1, 1, 10, 100, 1000], \n",
    "                max_iter = 5000)\n",
    "# max_iter = 5000  最多的迭代次数\n",
    "lasso.fit(X_train, y_train)\n",
    "#拿到最好的alpha\n",
    "alpha = lasso.alpha_\n",
    "print(\"Best alpha :\", alpha)\n",
    "\n",
    "print(\"Try again for more precision with alphas centered around \" + str(alpha))\n",
    "#调整 优化alpha  再次实例化\n",
    "lasso = LassoCV(alphas = [alpha * .6, alpha * .65, alpha * .7, alpha * .75, alpha * .8, \n",
    "                          alpha * .85, alpha * .9, alpha * .95, alpha, alpha * 1.05, \n",
    "                          alpha * 1.1, alpha * 1.15, alpha * 1.25, alpha * 1.3, alpha * 1.35, \n",
    "                          alpha * 1.4], \n",
    "                max_iter = 50000, cv = 10)\n",
    "#max_iter = 50000  最大的迭代次数\n",
    "#cv = 10  交叉验证的次数\n",
    "\n",
    "#训练模型\n",
    "lasso.fit(X_train, y_train)\n",
    "alpha = lasso.alpha_\n",
    "print(\"Best alpha :\", alpha)\n",
    "\n",
    "#拿到平均值\n",
    "mse_cv = np.mean(lasso.mse_path_, axis = 0)\n",
    "#lasso.mse_path_  从模型中获取均方误差\n",
    "\n",
    "#开根号\n",
    "rmse_cv = np.sqrt(mse_cv)\n",
    "#mse_cv 上述的平均值\n",
    "\n",
    "#最凶的均方误差\n",
    "print(\"cv of rmse :\", min(rmse_cv))\n",
    "\n",
    "#预测训练集\n",
    "y_train_lasso = lasso.predict(X_train)\n",
    "#开根号\n",
    "rmse_train = np.sqrt(mean_squared_error(y_train,y_train_lasso))\n",
    "#mean_squared_error(y_train,y_train_lasso)  训练集 结果  和预测集结果的均方误差\n",
    "print(\"RMSE on Training set :\", rmse_train)\n",
    "\n",
    "# Plot important coefficients\n",
    "#变为二维表\n",
    "coefs = pd.Series(lasso.coef_, index = X_train.columns)\n",
    "#lasso.coef_   相关系数\n",
    "#index = X_train.columns  对应的索引\n",
    "print(\"Lasso picked \" + str(sum(coefs != 0)) + \" features and eliminated the other \" +  \\\n",
    "      str(sum(coefs == 0)) + \" features\")\n",
    "#拼接\n",
    "imp_coefs = pd.concat([coefs.sort_values().head(10),\n",
    "                     coefs.sort_values().tail(10)])\n",
    "#画出图\n",
    "imp_coefs.plot(kind = \"barh\")\n",
    "#设置标题\n",
    "plt.title(\"Coefficients in the Lasso Model\")\n",
    "#展示\n",
    "plt.show()"
   ]
  },
  {
   "cell_type": "markdown",
   "metadata": {},
   "source": [
    "## 对测试集进行测试，生成提交文件"
   ]
  },
  {
   "cell_type": "code",
   "execution_count": 23,
   "metadata": {},
   "outputs": [],
   "source": [
    "#预测X轴的结果\n",
    "y_test_pred = lasso.predict(X_test)\n",
    "#预测结果 X 均方误差 + 均值\n",
    "y_test_pred = y_test_pred * std_y +  mean_y\n",
    "\n",
    "#生成提交测试结果\n",
    "\n",
    "#df = pd.DataFrame({\"Id\":test_Id, 'SalePrice':y_test_pred})\n",
    "#df.reindex(columns=['Id'])\n",
    "#生成二维表\n",
    "y = pd.Series(data = y_test_pred, name = 'SalePrice')\n",
    "#拼接\n",
    "df = pd.concat([test_Id, y], axis = 1)\n",
    "#提交\n",
    "df.to_csv('submission.csv')"
   ]
  },
  {
   "cell_type": "code",
   "execution_count": 24,
   "metadata": {},
   "outputs": [
    {
     "name": "stdout",
     "output_type": "stream",
     "text": [
      "<class 'pandas.core.frame.DataFrame'>\n",
      "RangeIndex: 1459 entries, 0 to 1458\n",
      "Data columns (total 2 columns):\n",
      "Id           1459 non-null int64\n",
      "SalePrice    1459 non-null float64\n",
      "dtypes: float64(1), int64(1)\n",
      "memory usage: 22.9 KB\n"
     ]
    }
   ],
   "source": [
    "#查看信息\n",
    "df.info()"
   ]
  },
  {
   "cell_type": "code",
   "execution_count": null,
   "metadata": {},
   "outputs": [],
   "source": []
  }
 ],
 "metadata": {
  "kernelspec": {
   "display_name": "Python 2",
   "language": "python",
   "name": "python2"
  },
  "language_info": {
   "codemirror_mode": {
    "name": "ipython",
    "version": 2
   },
   "file_extension": ".py",
   "mimetype": "text/x-python",
   "name": "python",
   "nbconvert_exporter": "python",
   "pygments_lexer": "ipython2",
   "version": "2.7.14"
  }
 },
 "nbformat": 4,
 "nbformat_minor": 2
}
